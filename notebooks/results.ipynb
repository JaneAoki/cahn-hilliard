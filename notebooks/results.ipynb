{
 "cells": [
  {
   "cell_type": "code",
   "execution_count": 1,
   "metadata": {},
   "outputs": [],
   "source": [
    "import torch\n",
    "import gpytorch\n",
    "\n",
    "import pickle\n",
    "\n",
    "import numpy as np\n",
    "\n",
    "import os\n",
    "\n",
    "%matplotlib inline\n",
    "from matplotlib import pyplot as plt\n",
    "\n",
    "plt.style.use(\"ggplot\")\n",
    "plt.rc('font', family=\"serif\")"
   ]
  },
  {
   "cell_type": "code",
   "execution_count": 2,
   "metadata": {},
   "outputs": [],
   "source": [
    "SAVE_FIGS = False"
   ]
  },
  {
   "cell_type": "code",
   "execution_count": 7,
   "metadata": {},
   "outputs": [
    {
     "name": "stdout",
     "output_type": "stream",
     "text": [
      "..\\script\n"
     ]
    }
   ],
   "source": [
    "result_path = os.path.join('..','script')\n",
    "print(result_path)"
   ]
  },
  {
   "cell_type": "code",
   "execution_count": 10,
   "metadata": {},
   "outputs": [],
   "source": [
    "bayesopt_results = []\n",
    "for i in [1,3,4,5,6]:\n",
    "    with open(os.path.join(result_path,'bayesopt_result_%d.p' % i),'rb') as fid:\n",
    "        bayesopt_results.append(pickle.load(fid))"
   ]
  },
  {
   "cell_type": "code",
   "execution_count": 12,
   "metadata": {},
   "outputs": [
    {
     "data": {
      "text/plain": [
       "tensor([[7.2383e-06, 1.1886e-04, 7.0149e-01],\n",
       "        [8.2824e-06, 1.2172e-04, 7.2492e-01],\n",
       "        [7.5786e-06, 1.2218e-04, 7.1187e-01],\n",
       "        [8.1564e-06, 1.1955e-04, 7.2164e-01],\n",
       "        [5.6641e-06, 1.1805e-04, 6.9165e-01],\n",
       "        [6.3085e-06, 1.2296e-04, 6.8715e-01],\n",
       "        [8.6024e-06, 1.2097e-04, 7.0590e-01],\n",
       "        [6.6143e-06, 1.2035e-04, 6.9590e-01],\n",
       "        [7.9045e-06, 1.1860e-04, 7.1729e-01],\n",
       "        [6.1965e-06, 1.1743e-04, 6.9937e-01],\n",
       "        [8.9187e-06, 1.2309e-04, 6.8324e-01],\n",
       "        [8.9187e-06, 1.2309e-04, 6.8896e-01],\n",
       "        [8.9187e-06, 1.1810e-04, 7.0876e-01],\n",
       "        [8.9187e-06, 1.1722e-04, 7.1448e-01],\n",
       "        [5.6006e-06, 1.2309e-04, 7.0348e-01],\n",
       "        [8.9187e-06, 1.2309e-04, 7.1932e-01],\n",
       "        [8.9187e-06, 1.2309e-04, 6.9380e-01],\n",
       "        [8.9187e-06, 1.2309e-04, 7.2680e-01],\n",
       "        [8.9187e-06, 1.2309e-04, 6.9776e-01],\n",
       "        [8.9187e-06, 1.2309e-04, 6.8544e-01],\n",
       "        [5.9358e-06, 1.1691e-04, 7.2328e-01],\n",
       "        [5.8017e-06, 1.2272e-04, 7.1052e-01],\n",
       "        [8.9187e-06, 1.2309e-04, 7.0040e-01],\n",
       "        [5.7012e-06, 1.1691e-04, 7.0700e-01],\n",
       "        [7.2094e-06, 1.2309e-04, 7.1624e-01],\n",
       "        [8.9187e-06, 1.1691e-04, 7.0480e-01],\n",
       "        [8.9187e-06, 1.2309e-04, 6.9072e-01],\n",
       "        [8.9187e-06, 1.1697e-04, 6.9248e-01],\n",
       "        [8.9187e-06, 1.2309e-04, 7.1316e-01],\n",
       "        [7.0418e-06, 1.1691e-04, 7.2064e-01],\n",
       "        [8.9187e-06, 1.1691e-04, 6.9512e-01],\n",
       "        [8.9187e-06, 1.1691e-04, 7.0260e-01],\n",
       "        [8.9187e-06, 1.2309e-04, 7.2240e-01],\n",
       "        [8.9187e-06, 1.2309e-04, 7.2416e-01],\n",
       "        [5.7682e-06, 1.2253e-04, 7.1800e-01],\n",
       "        [8.9187e-06, 1.1716e-04, 7.2548e-01],\n",
       "        [6.6061e-06, 1.1691e-04, 6.8456e-01],\n",
       "        [8.9187e-06, 1.2309e-04, 6.8412e-01],\n",
       "        [5.9693e-06, 1.1691e-04, 6.9688e-01],\n",
       "        [8.9187e-06, 1.1710e-04, 6.8808e-01],\n",
       "        [5.8352e-06, 1.2203e-04, 7.1536e-01],\n",
       "        [7.1088e-06, 1.1691e-04, 6.8632e-01],\n",
       "        [6.4050e-06, 1.2309e-04, 7.0788e-01],\n",
       "        [6.4720e-06, 1.2290e-04, 7.0964e-01],\n",
       "        [6.0363e-06, 1.1691e-04, 6.8984e-01],\n",
       "        [8.9187e-06, 1.1691e-04, 6.9864e-01],\n",
       "        [8.9187e-06, 1.1691e-04, 7.0964e-01],\n",
       "        [5.6006e-06, 1.2165e-04, 7.0964e-01],\n",
       "        [5.6006e-06, 1.1722e-04, 7.0964e-01],\n",
       "        [5.6341e-06, 1.2109e-04, 7.0964e-01]])"
      ]
     },
     "execution_count": 12,
     "metadata": {},
     "output_type": "execute_result"
    }
   ],
   "source": []
  },
  {
   "cell_type": "code",
   "execution_count": 20,
   "metadata": {},
   "outputs": [],
   "source": [
    "with open(os.path.join(result_path, 'ground_truth.p'),'rb') as fid:\n",
    "    ground_truth = pickle.load(fid)"
   ]
  },
  {
   "cell_type": "code",
   "execution_count": 22,
   "metadata": {},
   "outputs": [
    {
     "data": {
      "text/plain": [
       "{'a': array([6.6001335e-06], dtype=float32),\n",
       " 'b': array([0.00011894], dtype=float32),\n",
       " 'k': array([0.7229773], dtype=float32)}"
      ]
     },
     "execution_count": 22,
     "metadata": {},
     "output_type": "execute_result"
    }
   ],
   "source": [
    "ground_truth[0]"
   ]
  },
  {
   "cell_type": "code",
   "execution_count": 23,
   "metadata": {},
   "outputs": [],
   "source": [
    "priors = {\n",
    "    'a': [5.6006147e-6, 8.9186578e-6],\n",
    "    'b': [1.1691e-4, 1.2309e-4],\n",
    "    'k': [6.832446e-1, 7.2680455e-1]\n",
    "}"
   ]
  },
  {
   "cell_type": "code",
   "execution_count": 28,
   "metadata": {},
   "outputs": [],
   "source": [
    "abs_diff = lambda x: [np.abs(ground_truth[0][k]-x[i])[0] for i,k in enumerate(['a','b','k'])]\n",
    "\n",
    "def rel_diff(x):\n",
    "    out = []\n",
    "    x_ = abs_diff(x)\n",
    "    for i,k in enumerate(['a','b','k']):\n",
    "        out.append(x_[i]/(priors[k][1]-priors[k][0]))\n",
    "    return out"
   ]
  },
  {
   "cell_type": "code",
   "execution_count": 54,
   "metadata": {
    "scrolled": false
   },
   "outputs": [
    {
     "name": "stdout",
     "output_type": "stream",
     "text": [
      "0 ℓ=88.761688 N=50\n",
      "x : [6.47201978 1.22902726 0.70964456]\n",
      "|x-̃x| x [10^7, 10^6, 1]: [1.28113697 3.96012183 0.01333272]\n",
      "|x-̃x|norm : [0.038611221604833615, 0.6407964126957434, 0.3060775912559134]\n",
      "abs err : 0.7111922108871644\n",
      "----\n",
      "1 ℓ=82.481628 N=150\n",
      "x : [6.43850444 1.18345757 0.69996458]\n",
      "|x-̃x| x [10^7, 10^6, 1]: [1.61629032 0.5968468  0.0230127 ]\n",
      "|x-̃x|norm : [0.048712155648663026, 0.09657715260379739, 0.5282994515991359]\n",
      "abs err : 0.5392590574788193\n",
      "----\n",
      "2 ℓ=-390231744.000000 N=10\n",
      "x : [8.91865784 1.1691     0.68946743]\n",
      "|x-̃x| x [10^7, 10^6, 1]: [23.18524366  2.03260424  0.03350985]\n",
      "|x-̃x|norm : [0.6987625827626462, 0.3289003629677464, 0.7692811975682743]\n",
      "abs err : 1.0900633728189923\n",
      "----\n",
      "3 ℓ=84.816109 N=35\n",
      "x : [6.74054763 1.19549441 0.7240513 ]\n",
      "|x-̃x| x [10^7, 10^6, 1]: [1.40414159e+00 6.06836693e-01 1.07401609e-03]\n",
      "|x-̃x|norm : [0.04231836485867741, 0.09819363962714268, 0.024656045156336574]\n",
      "abs err : 0.1097303760600893\n",
      "----\n",
      "4 ℓ=85.474777 N=35\n",
      "x : [6.50553557 1.1691     0.71008456]\n",
      "|x-̃x| x [10^7, 10^6, 1]: [0.94597908 2.03260424 0.01289272]\n",
      "|x-̃x|norm : [0.02851015050812779, 0.3289003629677464, 0.29597653540686086]\n",
      "abs err : 0.44338514516587063\n",
      "----\n"
     ]
    }
   ],
   "source": [
    "for i,(xres, yres) in enumerate(bayesopt_results):\n",
    "    print('{} ℓ='.format(i) + '%8.6f'% yres.min().item() + ' N={}'.format(len(yres)))\n",
    "    x = xres[yres.argmin(),:].numpy()\n",
    "    print('x : {}'.format(x * np.array([1e6, 1e4, 1])))\n",
    "    print('|x-̃x| x [10^7, 10^6, 1]: {}'.format(abs_diff(x)*np.array([1e7, 1e6, 1])))\n",
    "    print('|x-̃x|norm : {}'.format(rel_diff(x)))\n",
    "    print('abs err : {}'.format(np.linalg.norm(rel_diff(x))))\n",
    "    print('----')"
   ]
  },
  {
   "cell_type": "code",
   "execution_count": 58,
   "metadata": {},
   "outputs": [],
   "source": []
  },
  {
   "cell_type": "code",
   "execution_count": 66,
   "metadata": {},
   "outputs": [
    {
     "data": {
      "image/png": "[encoded data removed]",
      "text/plain": [
       "<Figure size 432x288 with 1 Axes>"
      ]
     },
     "metadata": {
      "needs_background": "light"
     },
     "output_type": "display_data"
    },
    {
     "data": {
      "image/png": "[encoded data removed]",
      "text/plain": [
       "<Figure size 432x288 with 1 Axes>"
      ]
     },
     "metadata": {
      "needs_background": "light"
     },
     "output_type": "display_data"
    },
    {
     "data": {
      "image/png": "[encoded data removed]",
      "text/plain": [
       "<Figure size 432x288 with 1 Axes>"
      ]
     },
     "metadata": {
      "needs_background": "light"
     },
     "output_type": "display_data"
    },
    {
     "data": {
      "image/png": "[encoded data removed]",
      "text/plain": [
       "<Figure size 432x288 with 1 Axes>"
      ]
     },
     "metadata": {
      "needs_background": "light"
     },
     "output_type": "display_data"
    }
   ],
   "source": [
    "for j in [0,1,3,4]:\n",
    "    xx, yy = bayesopt_results[j]\n",
    "    plt.figure()\n",
    "    afrplt.plot([yy[0], *[yy[:i].min() for i in range(1, len(yy))]])    \n",
    "#     plt.plot([*yy[:5], *[yy[:i].min() for i in range(5, len(yy))]])"
   ]
  },
  {
   "cell_type": "code",
   "execution_count": 50,
   "metadata": {},
   "outputs": [
    {
     "data": {
      "text/plain": [
       "array([0.7229773], dtype=float32)"
      ]
     },
     "execution_count": 50,
     "metadata": {},
     "output_type": "execute_result"
    }
   ],
   "source": [
    "ground_truth[0]['k']"
   ]
  },
  {
   "cell_type": "code",
   "execution_count": 32,
   "metadata": {},
   "outputs": [],
   "source": [
    "bayesopt_deriv_results = []\n",
    "for i in [1,2,3,4]:\n",
    "    with open(os.path.join(result_path,'bayesopt_deriv_result_%d.p' % i),'rb') as fid:\n",
    "        bayesopt_deriv_results.append(pickle.load(fid))"
   ]
  },
  {
   "cell_type": "code",
   "execution_count": 56,
   "metadata": {},
   "outputs": [
    {
     "name": "stdout",
     "output_type": "stream",
     "text": [
      "0 ℓ=87.590874 N=15\n",
      "x : [6.88309638 1.2053769  0.69310367]\n",
      "|x-̃x| x [10^7, 10^6, 1]: [2.82962901 1.59508636 0.02987361]\n",
      "|x-̃x|norm : [0.08528005591919381, 0.25810458897808963, 0.685804495708711]\n",
      "abs err : 0.7377116463249098\n",
      "----\n",
      "1 ℓ=87.502327 N=15\n",
      "x : [6.27414602 1.1864971  0.70837474]\n",
      "|x-̃x| x [10^7, 10^6, 1]: [3.25987457 0.29289367 0.01460254]\n",
      "|x-̃x|norm : [0.09824690266150109, 0.0473937983428729, 0.3352286199484376]\n",
      "abs err : 0.3525292238048888\n",
      "----\n",
      "2 ℓ=88.314262 N=15\n",
      "x : [6.71255202 1.19112228 0.69141048]\n",
      "|x-̃x| x [10^7, 10^6, 1]: [1.12418547 0.1696244  0.0315668 ]\n",
      "|x-̃x|norm : [0.033880978628636156, 0.027447313893116283, 0.7246748145252966]\n",
      "abs err : 0.7259854423885195\n",
      "----\n",
      "3 ℓ=84.415161 N=15\n",
      "x : [6.51841947 1.2256176  0.6977455 ]\n",
      "|x-̃x| x [10^7, 10^6, 1]: [0.81714006 3.6191559  0.02523178]\n",
      "|x-̃x|norm : [0.02462716841385804, 0.5856239328064449, 0.5792425983425963]\n",
      "abs err : 0.8240654560375981\n",
      "----\n"
     ]
    }
   ],
   "source": [
    "for i,(xres, yres) in enumerate(bayesopt_deriv_results):\n",
    "    print('{} ℓ='.format(i) + '%8.6f'% yres[:,0].min().item() + ' N={}'.format(len(yres)))\n",
    "    x = xres[yres[:,0].argmin(),:].numpy()\n",
    "    print('x : {}'.format(x * np.array([1e6, 1e4, 1])))\n",
    "    print('|x-̃x| x [10^7, 10^6, 1]: {}'.format(abs_diff(x)*np.array([1e7, 1e6, 1])))\n",
    "    print('|x-̃x|norm : {}'.format(rel_diff(x)))\n",
    "    print('abs err : {}'.format(np.linalg.norm(rel_diff(x))))\n",
    "    print('----')"
   ]
  },
  {
   "cell_type": "code",
   "execution_count": 68,
   "metadata": {},
   "outputs": [
    {
     "data": {
      "image/png": "[encoded data removed]",
      "text/plain": [
       "<Figure size 432x288 with 1 Axes>"
      ]
     },
     "metadata": {
      "needs_background": "light"
     },
     "output_type": "display_data"
    },
    {
     "data": {
      "image/png": "[encoded data removed]",
      "text/plain": [
       "<Figure size 432x288 with 1 Axes>"
      ]
     },
     "metadata": {
      "needs_background": "light"
     },
     "output_type": "display_data"
    },
    {
     "data": {
      "image/png": "[encoded data removed]",
      "text/plain": [
       "<Figure size 432x288 with 1 Axes>"
      ]
     },
     "metadata": {
      "needs_background": "light"
     },
     "output_type": "display_data"
    },
    {
     "data": {
      "image/png": "[encoded data removed]",
      "text/plain": [
       "<Figure size 432x288 with 1 Axes>"
      ]
     },
     "metadata": {
      "needs_background": "light"
     },
     "output_type": "display_data"
    }
   ],
   "source": [
    "for j in range(4):\n",
    "    xx, yy = bayesopt_deriv_results[j]\n",
    "    plt.figure()\n",
    "    plt.plot([yy[0,0], *[yy[:i,0].min() for i in range(1, yy.shape[0])]])    \n",
    "#     plt.plot([*yy[:5], *[yy[:i].min() for i in range(5, len(yy))]])"
   ]
  },
  {
   "cell_type": "code",
   "execution_count": 36,
   "metadata": {},
   "outputs": [],
   "source": [
    "lbfgs_results = []\n",
    "for i in [1,2,3,4]:\n",
    "    with open(os.path.join(result_path,'lbfgs_result_%d.p' % i),'rb') as fid:\n",
    "        lbfgs_results.append(pickle.load(fid))"
   ]
  },
  {
   "cell_type": "code",
   "execution_count": 57,
   "metadata": {},
   "outputs": [
    {
     "name": "stdout",
     "output_type": "stream",
     "text": [
      "0 ℓ=79.754524 N=29\n",
      "x : [6.5394551  1.20306634 0.6946165 ]\n",
      "|x-̃x| x [10^7, 10^6, 1]: [0.60678303 1.36403105 0.02836078]\n",
      "|x-̃x|norm : [0.018287376457175483, 0.22071699836384862, 0.6510747614219594]\n",
      "abs err : 0.6877127063426232\n",
      "----\n",
      "1 ℓ=71.156151 N=27\n",
      "x : [6.58837247 1.2194947  0.70973711]\n",
      "|x-̃x| x [10^7, 10^6, 1]: [0.11761131 3.00686952 0.01324016]\n",
      "|x-̃x|norm : [0.0035445985424290057, 0.4865484659538939, 0.30395256555372174]\n",
      "abs err : 0.5736977741002696\n",
      "----\n",
      "2 ℓ=85.834999 N=62\n",
      "x : [6.55765347 1.20451335 0.70229738]\n",
      "|x-̃x| x [10^7, 10^6, 1]: [0.42480224 1.50872802 0.02067989]\n",
      "|x-̃x|norm : [0.012802794449252043, 0.24413074740483018, 0.47474551989767083]\n",
      "abs err : 0.5339916123283778\n",
      "----\n",
      "3 ℓ=88.202744 N=131\n",
      "x : [6.6579748  1.22099649 0.72200469]\n",
      "|x-̃x| x [10^7, 10^6, 1]: [5.78411345e-01 3.15704528e+00 9.72568989e-04]\n",
      "|x-̃x|norm : [0.017432303561292772, 0.5108487515779628, 0.022327137400296567]\n",
      "abs err : 0.511633495053547\n",
      "----\n"
     ]
    }
   ],
   "source": [
    "for i,opt in enumerate(lbfgs_results):\n",
    "    yres, N = opt.fun, opt.nfev\n",
    "    print('{} ℓ='.format(i) + '%8.6f'% yres + ' N={}'.format(N))\n",
    "    x = opt.x\n",
    "    print('x : {}'.format(x * np.array([1e6, 1e4, 1])))\n",
    "    print('|x-̃x| x [10^7, 10^6, 1]: {}'.format(abs_diff(x)*np.array([1e7, 1e6, 1])))\n",
    "    print('|x-̃x|norm : {}'.format(rel_diff(x)))\n",
    "    print('abs err : {}'.format(np.linalg.norm(rel_diff(x))))\n",
    "    print('----')"
   ]
  },
  {
   "cell_type": "code",
   "execution_count": 38,
   "metadata": {},
   "outputs": [
    {
     "data": {
      "text/plain": [
       "[      fun: 79.75452423095703\n",
       "  hess_inv: <3x3 LbfgsInvHessProduct with dtype=float64>\n",
       "       jac: array([7557599.5     , -178116.609375, -178116.609375])\n",
       "   message: b'CONVERGENCE: REL_REDUCTION_OF_F_<=_FACTR*EPSMCH'\n",
       "      nfev: 29\n",
       "       nit: 4\n",
       "    status: 0\n",
       "   success: True\n",
       "         x: array([6.53945510e-06, 1.20306634e-04, 6.94616500e-01]),\n",
       "       fun: 71.1561508178711\n",
       "  hess_inv: <3x3 LbfgsInvHessProduct with dtype=float64>\n",
       "       jac: array([-11482.21289062,   4307.34277344,   4307.34277344])\n",
       "   message: b'CONVERGENCE: REL_REDUCTION_OF_F_<=_FACTR*EPSMCH'\n",
       "      nfev: 27\n",
       "       nit: 5\n",
       "    status: 0\n",
       "   success: True\n",
       "         x: array([6.58837247e-06, 1.21949470e-04, 7.09737111e-01]),\n",
       "       fun: 85.83499908447266\n",
       "  hess_inv: <3x3 LbfgsInvHessProduct with dtype=float64>\n",
       "       jac: array([-134196.4375    ,   24062.58984375,   24062.58984375])\n",
       "   message: b'CONVERGENCE: REL_REDUCTION_OF_F_<=_FACTR*EPSMCH'\n",
       "      nfev: 62\n",
       "       nit: 5\n",
       "    status: 0\n",
       "   success: True\n",
       "         x: array([6.55765347e-06, 1.20451335e-04, 7.02297385e-01]),\n",
       "       fun: 88.20274353027344\n",
       "  hess_inv: <3x3 LbfgsInvHessProduct with dtype=float64>\n",
       "       jac: array([-63516.14453125,  24303.1328125 ,  24303.1328125 ])\n",
       "   message: b'CONVERGENCE: REL_REDUCTION_OF_F_<=_FACTR*EPSMCH'\n",
       "      nfev: 131\n",
       "       nit: 10\n",
       "    status: 0\n",
       "   success: True\n",
       "         x: array([6.65797480e-06, 1.22099649e-04, 7.22004686e-01])]"
      ]
     },
     "execution_count": 38,
     "metadata": {},
     "output_type": "execute_result"
    }
   ],
   "source": [
    "lbfgs_results.fun"
   ]
  },
  {
   "cell_type": "code",
   "execution_count": null,
   "metadata": {},
   "outputs": [],
   "source": []
  }
 ],
 "metadata": {
  "kernelspec": {
   "display_name": "Python 3",
   "language": "python",
   "name": "python3"
  },
  "language_info": {
   "codemirror_mode": {
    "name": "ipython",
    "version": 3
   },
   "file_extension": ".py",
   "mimetype": "text/x-python",
   "name": "python",
   "nbconvert_exporter": "python",
   "pygments_lexer": "ipython3",
   "version": "3.6.9"
  }
 },
 "nbformat": 4,
 "nbformat_minor": 2
}
